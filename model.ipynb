{
 "cells": [
  {
   "cell_type": "code",
   "execution_count": null,
   "metadata": {},
   "outputs": [],
   "source": [
    "import math"
   ]
  },
  {
   "cell_type": "code",
   "execution_count": null,
   "metadata": {},
   "outputs": [],
   "source": [
    "def distance(guess_coords, actual_coords):\n",
    "    \"\"\"\n",
    "    Computes distance of user's guess and the actual location of the\n",
    "    displayed image.\n",
    "\n",
    "    Args:\n",
    "        A tuple of the given image's actual longitude/latitude and a\n",
    "        tuple of the user's guessed coordinates.\n",
    "\n",
    "    Returns:\n",
    "        Integer representing euclidean distance.\n",
    "    \"\"\"\n",
    "    # Extract longitude and latitude coordinates from inputs\n",
    "    lat1 = guess_coords[0] * math.pi / 180.0\n",
    "    long1 = guess_coords[1] * math.pi / 180.0\n",
    "    lat2 = actual_coords[0] * math.pi / 180.0\n",
    "    long2 = actual_coords[1] * math.pi / 180.0\n",
    "    # Compute distance between guess and actual in radians\n",
    "    lat_distance = lat2 - lat1\n",
    "    long_distance = long2 - long1\n",
    "    # Use Haversine formula to find distance in meters\n",
    "    RADIUS_OF_EARTH = 6371000\n",
    "    euclidean_distance = (\n",
    "        2\n",
    "        * RADIUS_OF_EARTH\n",
    "        * math.asin()\n",
    "        * math.sqrt(\n",
    "            pow(math.sin(lat_distance / 2), 2)\n",
    "            + (\n",
    "                math.cos(lat1)\n",
    "                * math.cos(lat2)\n",
    "                * pow(math.sin(long_distance / 2), 2)\n",
    "            )\n",
    "        )\n",
    "    )\n",
    "    # Return euclidean distance\n",
    "    return euclidean_distance\n",
    "\n",
    "\n",
    "def round_score(euclidean_distance):\n",
    "    \"\"\"\n",
    "    Computes round score on a scale of 0 (lowest) to 5000\n",
    "    (highest score) points based on distance of guess and actual\n",
    "    location.\n",
    "\n",
    "    Args:\n",
    "        Integer representing euclidean distance.\n",
    "\n",
    "    Returns:\n",
    "        Integer representing the score of that round.\n",
    "    \"\"\"\n",
    "    # Modify Gaussian distribution for score calculation\n",
    "    # Monotonic decrease as distance increases\n",
    "    # Asymptotic end behavior (score = 0 as distance --> infinity)\n",
    "    HIGHEST_SCORE = 5000\n",
    "    SIGMA = 250000  # Width of bell curve\n",
    "    score = HIGHEST_SCORE * math.exp(\n",
    "        -0.5 * pow((euclidean_distance / SIGMA), 2)\n",
    "    )\n",
    "    return round(score)\n",
    "\n",
    "\n",
    "def average_score():\n",
    "    \"\"\"\n",
    "    Computes average score across all rounds.\n",
    "\n",
    "    Args:\n",
    "\n",
    "    Returns:\n",
    "    \"\"\""
   ]
  },
  {
   "cell_type": "code",
   "execution_count": null,
   "metadata": {},
   "outputs": [],
   "source": [
    "guess_coords = (51.5007,0.1246) # Big Ben, London\n",
    "actual_coords = (40.6892,74.0445) # Statue of Liberty, New York\n",
    "distance = distance(guess_coords, actual_coords)\n",
    "print(f\"The distance between your guess:{guess_coords} and the actual location:{actual_coords} is {distance}.\")\n",
    "round_score = round_score(distance)\n",
    "print(f\"Your score for this round is {round_score}\")"
   ]
  }
 ],
 "metadata": {
  "kernelspec": {
   "display_name": "base",
   "language": "python",
   "name": "python3"
  },
  "language_info": {
   "name": "python",
   "version": "3.12.2"
  }
 },
 "nbformat": 4,
 "nbformat_minor": 2
}
